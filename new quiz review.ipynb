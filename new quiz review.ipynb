{
 "cells": [
  {
   "cell_type": "markdown",
   "metadata": {},
   "source": [
    "# Quiz Review\n",
    ">\n",
    ">Data Types, Numbers, Strings, Lists, Dictionaries, and Booleans\n",
    ">"
   ]
  },
  {
   "cell_type": "markdown",
   "metadata": {},
   "source": [
    "## Data Types\n",
    "> What function can you use to find the type of an object?"
   ]
  },
  {
   "cell_type": "code",
   "execution_count": null,
   "metadata": {},
   "outputs": [],
   "source": [
    "## Write code here\n",
    "\n",
    "myvar = (2)"
   ]
  },
  {
   "cell_type": "markdown",
   "metadata": {},
   "source": [
    "## Numbers\n",
    "> Create the following:"
   ]
  },
  {
   "cell_type": "code",
   "execution_count": 13,
   "metadata": {},
   "outputs": [
    {
     "data": {
      "text/plain": [
       "2.0"
      ]
     },
     "execution_count": 13,
     "metadata": {},
     "output_type": "execute_result"
    }
   ],
   "source": [
    "# Create a variable 'numVar' to hold a number\n",
    "\n",
    "numvar = 2\n",
    "\n",
    "# Create a variable 'fltVar' to hold a float\n",
    "\n",
    "fltvar = numvar = 2\n",
    "\n",
    "# Change numVar to a float\n",
    "\n",
    "myvar1 = (5)\n",
    "\n",
    "# Change fltVar to a number\n",
    "\n",
    "myvar1 = (3)\n",
    "\n",
    "# Multiply numVar by 10\n",
    "myvar = 3\n",
    "3**10 \n",
    "\n",
    "# Return the remainer of numVar divided by 3.14\n",
    "numvar% 3.14"
   ]
  },
  {
   "cell_type": "markdown",
   "metadata": {},
   "source": [
    "## Strings\n",
    "> Create the following:"
   ]
  },
  {
   "cell_type": "code",
   "execution_count": 17,
   "metadata": {},
   "outputs": [],
   "source": [
    "# Create a variable 'strVar' to hold a string that contains an apostrophe and spaces\n",
    "strVar = \"Chicken's Arm\"\n",
    "\n",
    "# Split this variable on the spaces\n",
    "strvar = \"Chicken's\"\n",
    "strvar = \"Arm\"\n",
    "\n",
    "# Split this variable on the apostrophe\n",
    "strvar = \"Chicken\"\n",
    "strvar = \"'s Arm\""
   ]
  },
  {
   "cell_type": "markdown",
   "metadata": {},
   "source": [
    "## Lists\n",
    "> Create the following:"
   ]
  },
  {
   "cell_type": "code",
   "execution_count": 25,
   "metadata": {},
   "outputs": [],
   "source": [
    "# Create a variable 'lstVar' to hold an empty list\n",
    "lstvar = []\n",
    "\n",
    "# Append to this list three number type objects\n",
    "lstvar = (\"string, 123, string2\")\n",
    "\n",
    "# Create a variable revlstVar to hold lstVar in reverse\n",
    "revlstvar = (\"string, 123, string2\")"
   ]
  },
  {
   "cell_type": "markdown",
   "metadata": {},
   "source": [
    "## Dictionaries\n",
    "> Create the following:"
   ]
  },
  {
   "cell_type": "code",
   "execution_count": 34,
   "metadata": {},
   "outputs": [
    {
     "data": {
      "text/plain": [
       "'STRING2'"
      ]
     },
     "execution_count": 34,
     "metadata": {},
     "output_type": "execute_result"
    }
   ],
   "source": [
    "# Create a variable 'dctVar' to hold an empty dictionary\n",
    "dct = {}\n",
    "\n",
    "# Add each variable created above and set them each to their own keys\n",
    "dct = [\"string\", 123, \"string2\", strVar]\n",
    "\n",
    "# Call the 'strVar' from inside the dictionary and call the Upper method on it\n",
    "dct[2].upper()"
   ]
  }
 ],
 "metadata": {
  "kernelspec": {
   "display_name": "Python 3.9.12 ('base')",
   "language": "python",
   "name": "python3"
  },
  "language_info": {
   "codemirror_mode": {
    "name": "ipython",
    "version": 3
   },
   "file_extension": ".py",
   "mimetype": "text/x-python",
   "name": "python",
   "nbconvert_exporter": "python",
   "pygments_lexer": "ipython3",
   "version": "3.9.12"
  },
  "orig_nbformat": 4,
  "vscode": {
   "interpreter": {
    "hash": "57ac721093a3f60ca317333b2375f25e3c35c8da614585630a8e7bf243367f4c"
   }
  }
 },
 "nbformat": 4,
 "nbformat_minor": 2
}
