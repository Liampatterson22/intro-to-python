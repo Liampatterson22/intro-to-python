{
 "cells": [
  {
   "cell_type": "markdown",
   "metadata": {},
   "source": [
    "# 06 - If Statments"
   ]
  },
  {
   "cell_type": "markdown",
   "metadata": {},
   "source": [
    "## Lesson Objectives:\n",
    "1. Intro to Python Statements\n",
    "2. if, elif, else"
   ]
  },
  {
   "cell_type": "markdown",
   "metadata": {},
   "source": [
    "## 1. Intro to Python Statements\n",
    "> Python Statements are how we tell the computer to \"do something\"\n",
    ">\n",
    "> \"if\" something, do something\n",
    ">\n",
    ">\"for\" some time, do something\n",
    ">\n",
    ">\"while\" some condition is met, do something"
   ]
  },
  {
   "cell_type": "markdown",
   "metadata": {},
   "source": [
    "## Indentation\n",
    "> Python has specific indentation and whitespace requirements.\n",
    ">\n",
    "> Each identation is equal to a 'tab-space'\n",
    ">\n",
    "```python\n",
    "if x: \n",
    "    if y:\n",
    "        statement to execute\n",
    "else:\n",
    "    different statement to execute\n",
    "```"
   ]
  },
  {
   "cell_type": "markdown",
   "metadata": {},
   "source": [
    "2. if, elif, else\n",
    "```python\n",
    "if condition1:\n",
    "    execute1\n",
    "elif condition2:\n",
    "    execute2\n",
    "else:\n",
    "    execute3\n",
    "```"
   ]
  },
  {
   "cell_type": "markdown",
   "metadata": {},
   "source": [
    "## Examples"
   ]
  },
  {
   "cell_type": "code",
   "execution_count": null,
   "metadata": {},
   "outputs": [],
   "source": [
    "if True:\n",
    "    print(\"True that\")"
   ]
  },
  {
   "cell_type": "code",
   "execution_count": null,
   "metadata": {},
   "outputs": [],
   "source": [
    "# With some logic\n",
    "x = False\n",
    "\n",
    "if x:\n",
    "    print('x is True')\n",
    "else:\n",
    "    print(\"x is False\")"
   ]
  },
  {
   "cell_type": "code",
   "execution_count": null,
   "metadata": {},
   "outputs": [],
   "source": [
    "loc = \"School\"\n",
    "\n",
    "if loc == \"Gas Station\":\n",
    "    print(\"It smells like gas!\")\n",
    "elif loc == \"School\":\n",
    "    print(\"It smells like dirty kids!\")\n",
    "else:\n",
    "    print(\"Yo, it smells bad!\")"
   ]
  },
  {
   "cell_type": "code",
   "execution_count": null,
   "metadata": {},
   "outputs": [],
   "source": [
    "var = 10\n",
    "if var == 100:\n",
    "    print(\"my number is {}\".format(var))\n",
    "elif: var == 1:\n",
    "    print(\"my number is 1\")\n",
    "elif: var == 2:\n",
    "    print(\"my number is 2\")\n",
    "else:\n",
    "    if var == 5:\n",
    "        print(\"no, my number is {}\".format(var))\n",
    "        wlaw:\n",
    "        print (\"yes\")\n"
   ]
  },
  {
   "cell_type": "code",
   "execution_count": null,
   "metadata": {},
   "outputs": [],
   "source": [
    "lst = [1, 2, 3]\n",
    "\n",
    "if len(lst) == 3:\n",
    "    print(\"this list is just right\")\n",
    "elif len(lst) == 4:\n",
    "    print(\"this list is too long\")\n",
    "else:\n",
    "    print(\"idk how long this list is\")"
   ]
  },
  {
   "cell_type": "code",
   "execution_count": null,
   "metadata": {},
   "outputs": [],
   "source": [
    "name = \"Eric\"\n",
    "\n",
    "if name == \"Airwreck\":\n",
    "    print(\"My name is DJ Airwreck!\")\n",
    "elif name == \"Ariq\":\n",
    "    print(\"My name is Ariq!\")\n",
    "else:\n",
    "    print(\"I don't know my own name. Can I have yours please?\")"
   ]
  }
 ],
 "metadata": {
  "kernelspec": {
   "display_name": "Python 3.9.12 ('base')",
   "language": "python",
   "name": "python3"
  },
  "language_info": {
   "codemirror_mode": {
    "name": "ipython",
    "version": 3
   },
   "file_extension": ".py",
   "mimetype": "text/x-python",
   "name": "python",
   "nbconvert_exporter": "python",
   "pygments_lexer": "ipython3",
   "version": "3.9.12"
  },
  "orig_nbformat": 4,
  "vscode": {
   "interpreter": {
    "hash": "57ac721093a3f60ca317333b2375f25e3c35c8da614585630a8e7bf243367f4c"
   }
  }
 },
 "nbformat": 4,
 "nbformat_minor": 2
}
