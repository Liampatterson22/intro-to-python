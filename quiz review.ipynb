{
 "cells": [
  {
   "cell_type": "markdown",
   "metadata": {},
   "source": [
    "# Quiz Review\n",
    ">\n",
    ">Data Types, Numbers, Strings, Lists, Dictionaries, and Booleans\n",
    ">"
   ]
  },
  {
   "cell_type": "markdown",
   "metadata": {},
   "source": [
    "## Data Types\n",
    "> What function can you use to find the type of an object?"
   ]
  },
  {
   "cell_type": "code",
   "execution_count": null,
   "metadata": {},
   "outputs": [],
   "source": [
    "## Write code here"
   ]
  },
  {
   "cell_type": "markdown",
   "metadata": {},
   "source": [
    "## Numbers\n",
    "> Create the following:"
   ]
  },
  {
   "cell_type": "code",
   "execution_count": 38,
   "metadata": {},
   "outputs": [
    {
     "ename": "TypeError",
     "evalue": "unsupported operand type(s) for //: 'str' and 'float'",
     "output_type": "error",
     "traceback": [
      "\u001b[0;31m---------------------------------------------------------------------------\u001b[0m",
      "\u001b[0;31mTypeError\u001b[0m                                 Traceback (most recent call last)",
      "\u001b[1;32m/Users/liampatterson/Downloads/quiz-review.ipynb Cell 5\u001b[0m in \u001b[0;36m<cell line: 19>\u001b[0;34m()\u001b[0m\n\u001b[1;32m     <a href='vscode-notebook-cell:/Users/liampatterson/Downloads/quiz-review.ipynb#W4sZmlsZQ%3D%3D?line=16'>17</a>\u001b[0m numVar \u001b[39m*\u001b[39m \u001b[39m10\u001b[39m\n\u001b[1;32m     <a href='vscode-notebook-cell:/Users/liampatterson/Downloads/quiz-review.ipynb#W4sZmlsZQ%3D%3D?line=17'>18</a>\u001b[0m \u001b[39m# Return the remainer of numVar divided by 3.14\u001b[39;00m\n\u001b[0;32m---> <a href='vscode-notebook-cell:/Users/liampatterson/Downloads/quiz-review.ipynb#W4sZmlsZQ%3D%3D?line=18'>19</a>\u001b[0m \u001b[39m\"\u001b[39;49m\u001b[39mfltVar\u001b[39;49m\u001b[39m\"\u001b[39;49m \u001b[39m/\u001b[39;49m\u001b[39m/\u001b[39;49m \u001b[39m3.14\u001b[39;49m\n",
      "\u001b[0;31mTypeError\u001b[0m: unsupported operand type(s) for //: 'str' and 'float'"
     ]
    }
   ],
   "source": [
    "# Create a variable 'numVar' to hold a number\n",
    "from argparse import REMAINDER\n",
    "\n",
    "\n",
    "my_var = (1)\n",
    "\n",
    "# Create a variable 'fltVar' to hold a float\n",
    "myvar = \"fltVar\"\n",
    "# Change numVar to a float\n",
    "\n",
    "num_Var = \"fltVar\"\n",
    "\n",
    "# Change fltVar to a number\n",
    "my_var1 = (2)\n",
    "\n",
    "# Multiply numVar by 10\n",
    "numVar * 10\n",
    "# Return the remainer of numVar divided by 3.14\n",
    "\"fltVar\" // 3.14 "
   ]
  },
  {
   "cell_type": "markdown",
   "metadata": {},
   "source": [
    "## Strings\n",
    "> Create the following:"
   ]
  },
  {
   "cell_type": "code",
   "execution_count": 39,
   "metadata": {},
   "outputs": [
    {
     "data": {
      "text/plain": [
       "<function str.split(sep=None, maxsplit=-1)>"
      ]
     },
     "execution_count": 39,
     "metadata": {},
     "output_type": "execute_result"
    }
   ],
   "source": [
    "# Create a variable 'strVar' to hold a string that contains an apostrophe and spaces\n",
    "myvar1 = 'strVAR'\n",
    "\n",
    "# Split this variable on the spaces\n",
    "'strVAR'.split \n",
    "# Split this variable on the apostrophe\n",
    "'strVar'.split"
   ]
  },
  {
   "cell_type": "markdown",
   "metadata": {},
   "source": [
    "## Lists\n",
    "> Create the following:"
   ]
  },
  {
   "cell_type": "code",
   "execution_count": 42,
   "metadata": {},
   "outputs": [],
   "source": [
    "# Create a variable 'lstVar' to hold an empty list\n",
    "my_var = 'lstVar'\n",
    "\n",
    "# Append to this list three number type objects\n",
    "lstVar = (1, 2, 3)\n",
    "\n",
    "# Create a variable revlstVar to hold lstVar in reverse\n",
    "\n",
    "myvar1 = 'revlstVar'"
   ]
  },
  {
   "cell_type": "markdown",
   "metadata": {},
   "source": [
    "## Dictionaries\n",
    "> Create the following:"
   ]
  },
  {
   "cell_type": "code",
   "execution_count": 43,
   "metadata": {},
   "outputs": [
    {
     "ename": "NameError",
     "evalue": "name 'strVar' is not defined",
     "output_type": "error",
     "traceback": [
      "\u001b[0;31m---------------------------------------------------------------------------\u001b[0m",
      "\u001b[0;31mNameError\u001b[0m                                 Traceback (most recent call last)",
      "\u001b[1;32m/Users/liampatterson/Downloads/quiz-review.ipynb Cell 11\u001b[0m in \u001b[0;36m<cell line: 9>\u001b[0;34m()\u001b[0m\n\u001b[1;32m      <a href='vscode-notebook-cell:/Users/liampatterson/Downloads/quiz-review.ipynb#X13sZmlsZQ%3D%3D?line=5'>6</a>\u001b[0m my_var \u001b[39m=\u001b[39m (\u001b[39m3\u001b[39m)\n\u001b[1;32m      <a href='vscode-notebook-cell:/Users/liampatterson/Downloads/quiz-review.ipynb#X13sZmlsZQ%3D%3D?line=7'>8</a>\u001b[0m \u001b[39m# Call the 'strVar' from inside the dictionary and call the Upper method on it\u001b[39;00m\n\u001b[0;32m----> <a href='vscode-notebook-cell:/Users/liampatterson/Downloads/quiz-review.ipynb#X13sZmlsZQ%3D%3D?line=8'>9</a>\u001b[0m strVar\u001b[39m.\u001b[39mupper()\n",
      "\u001b[0;31mNameError\u001b[0m: name 'strVar' is not defined"
     ]
    }
   ],
   "source": [
    "# Create a variable 'dctVar' to hold an empty dictionary\n",
    "my_var = 'dctVar'\n",
    "\n",
    "\n",
    "# Add each variable created above and set them each to their own keys\n",
    "my_var = (3)\n",
    "\n",
    "# Call the 'strVar' from inside the dictionary and call the Upper method on it\n",
    "strVar.upper()"
   ]
  }
 ],
 "metadata": {
  "kernelspec": {
   "display_name": "Python 3.9.12 ('base')",
   "language": "python",
   "name": "python3"
  },
  "language_info": {
   "codemirror_mode": {
    "name": "ipython",
    "version": 3
   },
   "file_extension": ".py",
   "mimetype": "text/x-python",
   "name": "python",
   "nbconvert_exporter": "python",
   "pygments_lexer": "ipython3",
   "version": "3.9.12"
  },
  "orig_nbformat": 4,
  "vscode": {
   "interpreter": {
    "hash": "57ac721093a3f60ca317333b2375f25e3c35c8da614585630a8e7bf243367f4c"
   }
  }
 },
 "nbformat": 4,
 "nbformat_minor": 2
}
