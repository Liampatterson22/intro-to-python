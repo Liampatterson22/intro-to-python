{
 "cells": [
  {
   "cell_type": "markdown",
   "metadata": {},
   "source": [
    "# Quiz Review\n",
    ">\n",
    ">Data Types, Numbers, Strings, Lists, Dictionaries, and Booleans\n",
    ">"
   ]
  },
  {
   "cell_type": "markdown",
   "metadata": {},
   "source": [
    "## Data Types\n",
    "> What function can you use to find the type of an object?"
   ]
  },
  {
   "cell_type": "code",
   "execution_count": null,
   "metadata": {},
   "outputs": [],
   "source": [
    "## Write code here\n",
    "\n",
    "myvar = (2)"
   ]
  },
  {
   "cell_type": "markdown",
   "metadata": {},
   "source": [
    "## Numbers\n",
    "> Create the following:"
   ]
  },
  {
   "cell_type": "code",
   "execution_count": 8,
   "metadata": {},
   "outputs": [
    {
     "ename": "TypeError",
     "evalue": "not all arguments converted during string formatting",
     "output_type": "error",
     "traceback": [
      "\u001b[0;31m---------------------------------------------------------------------------\u001b[0m",
      "\u001b[0;31mTypeError\u001b[0m                                 Traceback (most recent call last)",
      "\u001b[1;32m/Users/liampatterson/Downloads/quiz-review (2).ipynb Cell 5\u001b[0m in \u001b[0;36m<cell line: 22>\u001b[0;34m()\u001b[0m\n\u001b[1;32m     <a href='vscode-notebook-cell:/Users/liampatterson/Downloads/quiz-review%20%282%29.ipynb#W4sZmlsZQ%3D%3D?line=17'>18</a>\u001b[0m my_var \u001b[39m=\u001b[39m \u001b[39m2\u001b[39m\u001b[39m*\u001b[39m\u001b[39m*\u001b[39m\u001b[39m10\u001b[39m\n\u001b[1;32m     <a href='vscode-notebook-cell:/Users/liampatterson/Downloads/quiz-review%20%282%29.ipynb#W4sZmlsZQ%3D%3D?line=19'>20</a>\u001b[0m \u001b[39m# Return the remainer of numVar divided by 3.14\u001b[39;00m\n\u001b[0;32m---> <a href='vscode-notebook-cell:/Users/liampatterson/Downloads/quiz-review%20%282%29.ipynb#W4sZmlsZQ%3D%3D?line=21'>22</a>\u001b[0m num_Var\u001b[39m%\u001b[39;49m \u001b[39m3.14\u001b[39;49m\n",
      "\u001b[0;31mTypeError\u001b[0m: not all arguments converted during string formatting"
     ]
    }
   ],
   "source": [
    "# Create a variable 'numVar' to hold a number\n",
    "\n",
    "myvar = (2)\n",
    "\n",
    "# Create a variable 'fltVar' to hold a float\n",
    "\n",
    "num_Var = \"fltVar\"\n",
    "\n",
    "# Change numVar to a float\n",
    "\n",
    "my_var1 = (5)\n",
    "\n",
    "# Change fltVar to a number\n",
    "\n",
    "my_var1 = (3)\n",
    "\n",
    "# Multiply numVar by 10\n",
    "my_var = 2**10\n",
    "\n",
    "# Return the remainer of numVar divided by 3.14\n",
    "\n",
    "num_Var% 3.14"
   ]
  },
  {
   "cell_type": "markdown",
   "metadata": {},
   "source": [
    "## Strings\n",
    "> Create the following:"
   ]
  },
  {
   "cell_type": "code",
   "execution_count": null,
   "metadata": {},
   "outputs": [],
   "source": [
    "# Create a variable 'strVar' to hold a string that contains an apostrophe and spaces\n",
    "\n",
    "# Split this variable on the spaces\n",
    "\n",
    "# Split this variable on the apostrophe"
   ]
  },
  {
   "cell_type": "markdown",
   "metadata": {},
   "source": [
    "## Lists\n",
    "> Create the following:"
   ]
  },
  {
   "cell_type": "code",
   "execution_count": null,
   "metadata": {},
   "outputs": [],
   "source": [
    "# Create a variable 'lstVar' to hold an empty list\n",
    "\n",
    "# Append to this list three number type objects\n",
    "\n",
    "# Create a variable revlstVar to hold lstVar in reverse"
   ]
  },
  {
   "cell_type": "markdown",
   "metadata": {},
   "source": [
    "## Dictionaries\n",
    "> Create the following:"
   ]
  },
  {
   "cell_type": "code",
   "execution_count": null,
   "metadata": {},
   "outputs": [],
   "source": [
    "# Create a variable 'dctVar' to hold an empty dictionary\n",
    "\n",
    "# Add each variable created above and set them each to their own keys\n",
    "\n",
    "# Call the 'strVar' from inside the dictionary and call the Upper method on it"
   ]
  }
 ],
 "metadata": {
  "kernelspec": {
   "display_name": "Python 3.9.12 ('base')",
   "language": "python",
   "name": "python3"
  },
  "language_info": {
   "codemirror_mode": {
    "name": "ipython",
    "version": 3
   },
   "file_extension": ".py",
   "mimetype": "text/x-python",
   "name": "python",
   "nbconvert_exporter": "python",
   "pygments_lexer": "ipython3",
   "version": "3.9.12"
  },
  "orig_nbformat": 4,
  "vscode": {
   "interpreter": {
    "hash": "57ac721093a3f60ca317333b2375f25e3c35c8da614585630a8e7bf243367f4c"
   }
  }
 },
 "nbformat": 4,
 "nbformat_minor": 2
}
