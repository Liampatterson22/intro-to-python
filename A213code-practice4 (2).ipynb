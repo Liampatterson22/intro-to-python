{
 "cells": [
  {
   "cell_type": "markdown",
   "metadata": {},
   "source": [
    "# A2.13 - Code Practice IV\n",
    ">\n",
    "> Review: `if` Statements\n",
    ">\n",
    "> Review: `for` Loops\n",
    ">\n",
    "> Review: `while` Loops"
   ]
  },
  {
   "cell_type": "code",
   "execution_count": null,
   "metadata": {},
   "outputs": [],
   "source": [
    "# Use `if` statement to find even and odd numbers\n",
    "\n",
    "num = 4\n",
    "if num % 4 == 0:\n",
    "    print(\"this number is odd\")"
   ]
  },
  {
   "cell_type": "code",
   "execution_count": null,
   "metadata": {},
   "outputs": [],
   "source": [
    "# Use `for` loop and `if` statement to find the correct name from a list of names\n",
    "    print('True, Five is greater than One')\n",
    "if 5 > 1:\n",
    "    print('True, four is greater than zero')\n",
    "\n",
    "for name in ['daniel', 'joe', 'mark']:\n",
    "  "
   ]
  },
  {
   "cell_type": "code",
   "execution_count": null,
   "metadata": {},
   "outputs": [],
   "source": [
    "# Use `for` loop and `if` statement to find the correct length of name from a \\\n",
    "# list of names\n",
    "for name in ['daniel', 'joe', 'mark']:\n",
    "   else\n",
    "('daniel', 'joe;, 'mark')"
   ]
  },
  {
   "cell_type": "code",
   "execution_count": 9,
   "metadata": {},
   "outputs": [
    {
     "ename": "SyntaxError",
     "evalue": "invalid syntax (524051792.py, line 2)",
     "output_type": "error",
     "traceback": [
      "\u001b[0;36m  Input \u001b[0;32mIn [9]\u001b[0;36m\u001b[0m\n\u001b[0;31m    for\u001b[0m\n\u001b[0m        ^\u001b[0m\n\u001b[0;31mSyntaxError\u001b[0m\u001b[0;31m:\u001b[0m invalid syntax\n"
     ]
    }
   ],
   "source": [
    "# Use `for` loop to print a statement 10 times\n",
    "for \n",
    "(\"I like Python a lot\") = (10)"
   ]
  },
  {
   "cell_type": "code",
   "execution_count": null,
   "metadata": {},
   "outputs": [],
   "source": [
    "# Use `for` loop to print the values of a dictionary\n",
    "dct = (\"This is my dictionary\")\n",
    "for\n",
    "    print(\"This is my dicitonary\")\n",
    "# The dictionary should be at least 3 key-value pairs\n",
    "dct = (43, 42, 41)"
   ]
  },
  {
   "cell_type": "code",
   "execution_count": 13,
   "metadata": {},
   "outputs": [
    {
     "ename": "SyntaxError",
     "evalue": "invalid syntax (1299651899.py, line 3)",
     "output_type": "error",
     "traceback": [
      "\u001b[0;36m  Input \u001b[0;32mIn [13]\u001b[0;36m\u001b[0m\n\u001b[0;31m    while\u001b[0m\n\u001b[0m         ^\u001b[0m\n\u001b[0;31mSyntaxError\u001b[0m\u001b[0;31m:\u001b[0m invalid syntax\n"
     ]
    }
   ],
   "source": [
    "# Use `while` loop that asks for user input three times and then prints it out\n",
    "\n",
    "while\n",
    "print(One, Two , Three)"
   ]
  }
 ],
 "metadata": {
  "kernelspec": {
   "display_name": "Python 3.9.12 ('base')",
   "language": "python",
   "name": "python3"
  },
  "language_info": {
   "codemirror_mode": {
    "name": "ipython",
    "version": 3
   },
   "file_extension": ".py",
   "mimetype": "text/x-python",
   "name": "python",
   "nbconvert_exporter": "python",
   "pygments_lexer": "ipython3",
   "version": "3.9.12"
  },
  "orig_nbformat": 4,
  "vscode": {
   "interpreter": {
    "hash": "57ac721093a3f60ca317333b2375f25e3c35c8da614585630a8e7bf243367f4c"
   }
  }
 },
 "nbformat": 4,
 "nbformat_minor": 2
}
