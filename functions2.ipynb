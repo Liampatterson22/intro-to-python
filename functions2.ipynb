{
 "cells": [
  {
   "cell_type": "code",
   "execution_count": 8,
   "metadata": {},
   "outputs": [
    {
     "ename": "IndentationError",
     "evalue": "unindent does not match any outer indentation level (<tokenize>, line 11)",
     "output_type": "error",
     "traceback": [
      "\u001b[0;36m  File \u001b[0;32m<tokenize>:11\u001b[0;36m\u001b[0m\n\u001b[0;31m    elif (a and b) == 0:\u001b[0m\n\u001b[0m    ^\u001b[0m\n\u001b[0;31mIndentationError\u001b[0m\u001b[0;31m:\u001b[0m unindent does not match any outer indentation level\n"
     ]
    }
   ],
   "source": [
    "# LESSER OF TWO EVENS\n",
    "# WRITE A FUNCTION THAT RETURNS THE LESSER OF TWO EVEN NUMBERS\n",
    "\n",
    "def lesser_of_two_evens(a, b):\n",
    "\n",
    "     if (a and b) != 0:\n",
    "        if b > a:\n",
    "            print(b)\n",
    "        if a > b:\n",
    "            print(a)    \n",
    "    elif (a and b) == 0:\n",
    "if a < b:\n",
    "            print(a)\n",
    "else:\n",
    "            print(b)    \n",
    "\n"
   ]
  },
  {
   "cell_type": "code",
   "execution_count": null,
   "metadata": {},
   "outputs": [],
   "source": [
    "# CHECK\n",
    "\n",
    "def lesser_of_two_evens(a, b):\n",
    "\n",
    "     if (a and b) != 0:\n",
    "        if b > a:\n",
    "            print(b)\n",
    "        if a > b:\n",
    "            print(a)    \n",
    "elif (a and b) == 0:\n",
    "if a < b:\n",
    "            print(a)\n",
    "else:\n",
    "            print(b)    \n",
    "\n"
   ]
  },
  {
   "cell_type": "code",
   "execution_count": 9,
   "metadata": {},
   "outputs": [
    {
     "ename": "IndentationError",
     "evalue": "unexpected indent (2410097086.py, line 3)",
     "output_type": "error",
     "traceback": [
      "\u001b[0;36m  Input \u001b[0;32mIn [9]\u001b[0;36m\u001b[0m\n\u001b[0;31m    if (2, 5) != 10:\u001b[0m\n\u001b[0m    ^\u001b[0m\n\u001b[0;31mIndentationError\u001b[0m\u001b[0;31m:\u001b[0m unexpected indent\n"
     ]
    }
   ],
   "source": [
    "lesser_of_two_evens(2, 5)\n",
    "  \n",
    "  if (2, 5) != 10:\n",
    "        if 5 > 2:\n",
    "            print(b)\n",
    "        if 2 > 5:\n",
    "            print(a)    \n",
    " "
   ]
  },
  {
   "cell_type": "code",
   "execution_count": null,
   "metadata": {},
   "outputs": [],
   "source": [
    "# ANIMAL CRACKERS\n",
    "# WRITE A FUNCTION THAT TAKES A TWO-WORD STRING AND RETURNS TRUE IF BOTH WORDS BEGIN WITH THE SAME LETTER\n",
    "\n",
    "def animal_crackers(text):\n",
    "    if (\"One, Two\" and \"Three, Four\") != True:\n",
    "        if (\"One, Two\") > (\"Three, Four\"):\n",
    "            print(False)\n",
    "        if (\"Three, Four\") > (\"One, Two\"):\n",
    "            print(True)    \n",
    " \n"
   ]
  },
  {
   "cell_type": "code",
   "execution_count": null,
   "metadata": {},
   "outputs": [],
   "source": [
    "animal_crackers('Levelheaded Llama')\n",
    "\n",
    "def animal_crackers(text):\n",
    "    if (\"Levelheaded\" and \"Llama\") != True:\n",
    "        if (\"Levelheaded\") > (\"Llama\"):\n",
    "            print(True)\n",
    "        if (\"Llama\") > (\"Levelheaded\"):\n",
    "            print(False)   \n",
    "   "
   ]
  },
  {
   "cell_type": "code",
   "execution_count": null,
   "metadata": {},
   "outputs": [],
   "source": [
    "animal_crackers('Crazy Kangaroo')\n",
    "\n",
    "def animal_crackers(text):\n",
    "    if (\"Crazy\" and \"Kangaroo\") != True:\n",
    "        if (\"Crazy\") > (\"Kangaroo\"):\n",
    "            print(False)\n",
    "        if (\"Crazy\") > (\"Kangaroo\"):\n",
    "            print(True)   \n",
    "\n"
   ]
  },
  {
   "cell_type": "code",
   "execution_count": null,
   "metadata": {},
   "outputs": [],
   "source": [
    "# MAKES TWENTY\n",
    "# GIVEN TWO INTEGERS, RETURN TRUE IF THE SUM OF THE INTEGERS IS 20 OR IF ONE OF THE INTEGERS IS 20. OTHERWISE RETURN FALSE.\n",
    "\n",
    "def makes_twenty(n1, n2):\n",
    "if n1 + n2 == 20:\n",
    "        return True\n",
    "    else:\n",
    "        return n1 == 20 or n2 == 20\n",
    "    \n",
    "#     also written with or statement\n",
    "#       return (n1 + n2) == 20 or n1 == 20 or n2 == 20"
   ]
  },
  {
   "cell_type": "code",
   "execution_count": null,
   "metadata": {},
   "outputs": [],
   "source": [
    "makes_twenty(20, 10)\n",
    "\n",
    "def makes_twenty(20, 10):\n",
    "if [20] + [10] == 20:\n",
    "        return False\n",
    "    else:\n",
    "        return [20] == 20 or 10 == 20"
   ]
  },
  {
   "cell_type": "code",
   "execution_count": null,
   "metadata": {},
   "outputs": [],
   "source": [
    "makes_twenty(2, 3)\n",
    "\n",
    "def makes_twenty(2, 3):\n",
    "if [2] + [3] == 20:\n",
    "        return False\n",
    "    else:\n",
    "        return 2 == 20 or 3 == 20"
   ]
  },
  {
   "cell_type": "code",
   "execution_count": null,
   "metadata": {},
   "outputs": [],
   "source": [
    "makes_twenty(10,10)\n",
    "\n",
    "def makes_twenty(10, 10):\n",
    "if [10] + [10] == 20:\n",
    "        return True\n",
    "    else:\n",
    "        return 10 == 20 or 10 == 20"
   ]
  }
 ],
 "metadata": {
  "kernelspec": {
   "display_name": "Python 3.9.12 ('base')",
   "language": "python",
   "name": "python3"
  },
  "language_info": {
   "codemirror_mode": {
    "name": "ipython",
    "version": 3
   },
   "file_extension": ".py",
   "mimetype": "text/x-python",
   "name": "python",
   "nbconvert_exporter": "python",
   "pygments_lexer": "ipython3",
   "version": "3.9.12"
  },
  "orig_nbformat": 4,
  "vscode": {
   "interpreter": {
    "hash": "57ac721093a3f60ca317333b2375f25e3c35c8da614585630a8e7bf243367f4c"
   }
  }
 },
 "nbformat": 4,
 "nbformat_minor": 2
}
